{
 "cells": [
  {
   "cell_type": "code",
   "execution_count": null,
   "metadata": {
    "ExecuteTime": {
     "end_time": "2021-04-02T11:34:43.674159Z",
     "start_time": "2021-04-02T11:34:43.262283Z"
    }
   },
   "outputs": [],
   "source": [
    "%matplotlib inline"
   ]
  },
  {
   "cell_type": "code",
   "execution_count": null,
   "metadata": {
    "ExecuteTime": {
     "end_time": "2021-04-02T11:34:44.405097Z",
     "start_time": "2021-04-02T11:34:43.676743Z"
    }
   },
   "outputs": [],
   "source": [
    "import matplotlib.pyplot as plt\n",
    "import seaborn as sns\n",
    "import numpy as np\n",
    "import pandas as pd\n",
    "from pathlib import Path\n",
    "from pprint import pprint\n",
    "sns.set()"
   ]
  },
  {
   "cell_type": "markdown",
   "metadata": {},
   "source": [
    "### Analyse the data"
   ]
  },
  {
   "cell_type": "code",
   "execution_count": null,
   "metadata": {
    "ExecuteTime": {
     "end_time": "2021-04-02T11:34:44.411772Z",
     "start_time": "2021-04-02T11:34:44.407409Z"
    }
   },
   "outputs": [],
   "source": [
    "BASE_DIR = \".\"\n",
    "BASE_PATH = Path(BASE_DIR)"
   ]
  },
  {
   "cell_type": "code",
   "execution_count": null,
   "metadata": {
    "ExecuteTime": {
     "end_time": "2021-04-02T11:38:58.717164Z",
     "start_time": "2021-04-02T11:38:58.701686Z"
    }
   },
   "outputs": [],
   "source": [
    "def get_data(base_path, dataset, normal_case=False, constraint_comp=False, l1l2=False, compare_dot_product=False, num_layers_list=None, table=None):\n",
    "    all_data = []\n",
    "\n",
    "    if compare_dot_product:\n",
    "        relevant_norms = [\"1\", \"2\"]\n",
    "    elif (table == 2 or l1l2):\n",
    "        relevant_norms = [\"1\", \"2\"] if l1l2 else [\"inf\"]\n",
    "    else:\n",
    "        relevant_norms = [\"1\", \"2\", \"inf\"]\n",
    "    \n",
    "    if (table == 2 or l1l2):\n",
    "        netName = f\"bert_smaller\"\n",
    "        size = \"smaller\"\n",
    "    else:\n",
    "        netName = f\"bert_small\"\n",
    "        size = \"small\"\n",
    "        \n",
    "    if dataset == \"sstSubset\" or dataset == \"sst\":\n",
    "        dir = \"sst\"\n",
    "    else:\n",
    "        dir = \"yelp\"\n",
    "        \n",
    "    \n",
    "    \n",
    "    \n",
    "    num_layers_list = [\"3\", \"6\", \"12\"]\n",
    "    if table == 2:\n",
    "        methods_and_labels = [(\"zonotope\", \"DeepT-Fast\"), (\"zonotopeSlow\", \"DeepT-Precise\"), (\"backward\", \"CROWN-Backward\")]\n",
    "    elif constraint_comp:\n",
    "        methods_and_labels = [(\"zonotope\", \"DeepT-Fast-With-Constraint\"), (\"zonotopeNoConstraint\", \"DeepT-Fast-Without-Constraint\")]\n",
    "    elif compare_dot_product:\n",
    "        methods_and_labels = [(\"zonotope\", \"DeepT-Fast-Linf-First\"), (\"zonotopeOtherDotProduct\", \"DeepT-Fast-Lp-First\")]\n",
    "    elif l1l2:\n",
    "        methods_and_labels = [(\"zonotope\", \"DeepT-Fast\"), (\"baf\", \"CROWN-BaF\"), (\"backward\", \"CROWN-Backward\")]\n",
    "    elif normal_case:\n",
    "        methods_and_labels = [(\"zonotope\", \"DeepT-Fast\"), (\"baf\", \"CROWN-BaF\")]\n",
    "    else:\n",
    "        raise NotImplementedError()\n",
    "    \n",
    "    for p in relevant_norms:\n",
    "        for num_layers in num_layers_list:\n",
    "            for method, method_label in methods_and_labels:\n",
    "                if method == \"baf\" or method == \"backward\":\n",
    "                    glob_path = f\"*{dataset}_{dir}_{netName}_{num_layers}_{size}_{method}_{p}_*.csv\"\n",
    "                elif method_label == \"DeepT-Precise\":\n",
    "                    glob_path = f\"*{dataset}_{dir}_{netName}_{num_layers}_{size}_{method}_{p}_box_7000_WithConstraint_*.csv\"\n",
    "                elif method_label in [\"DeepT-Fast\", \"DeepT-Fast-Linf-First\", \"DeepT-Fast-With-Constraint\"]:\n",
    "                    glob_path = f\"*{dataset}_{dir}_{netName}_{num_layers}_{size}_zonotope_{p}_box_14000_WithConstraint_*.csv\"\n",
    "                elif method_label == \"DeepT-Fast-Without-Constraint\":\n",
    "                    glob_path = f\"*{dataset}_{dir}_{netName}_{num_layers}_{size}_zonotope_{p}_box_14000_NoConstraint*.csv\"\n",
    "                elif method_label == \"DeepT-Fast-Lp-First\":\n",
    "                    glob_path = f\"*{dataset}_{dir}_{netName}_{num_layers}_{size}_zonotope_{p}_box_14000_WithConstraintOtherDotProductOrder_*.csv\"\n",
    "                \n",
    "\n",
    "                \n",
    "                all_files = list(base_path.glob(glob_path))\n",
    "                #print(glob_path)\n",
    "                #print(list(base_path.glob(\"*\")))\n",
    "                #print()\n",
    "                if len(all_files) == 0:\n",
    "                    print(f\"No data for method={method} method_label={method_label} p={p} num_layers={num_layers} glob_path={glob_path}\")\n",
    "                    continue\n",
    "\n",
    "                assert len(all_files) >= 1, f\"*_{num_layers}_small_{method}_{p}_*\"\n",
    "\n",
    "                sorted_files = list(sorted(all_files))\n",
    "                latest_file = sorted_files[-1]\n",
    "                print(method_label, \":\", latest_file)\n",
    "\n",
    "                try:\n",
    "                    df = pd.read_csv(latest_file)\n",
    "                    df['p'] = p\n",
    "                    df['num_layers'] = int(num_layers)\n",
    "                    df['Method'] = method_label\n",
    "                    \n",
    "                    if 'memory' not in df.columns:\n",
    "                        df[\"memory\"] = -1\n",
    "                    \n",
    "                    all_data.append(df)\n",
    "                except pd.errors.EmptyDataError:\n",
    "                    print(f\"Empty CSV file for method={method} p={p} num_layers={num_layers}\")\n",
    "\n",
    "    all_data_df = pd.concat(all_data, ignore_index=True)\n",
    "    all_data_df[\"sentence\"] = pd.to_numeric(all_data_df[\"sentence\"])\n",
    "    all_data_df[\"position\"] = pd.to_numeric(all_data_df[\"position\"])\n",
    "    return all_data_df"
   ]
  },
  {
   "cell_type": "code",
   "execution_count": null,
   "metadata": {
    "ExecuteTime": {
     "end_time": "2021-04-02T11:38:59.633491Z",
     "start_time": "2021-04-02T11:38:59.455418Z"
    }
   },
   "outputs": [],
   "source": [
    "print(BASE_PATH)  # Table 1 _scaled_down\n",
    "all_data_df = get_data(BASE_PATH.parent.parent / \"normal_case_scaled_down\" , dataset=\"sstSubset\", normal_case=True)"
   ]
  },
  {
   "cell_type": "code",
   "execution_count": null,
   "metadata": {
    "ExecuteTime": {
     "end_time": "2021-04-02T11:39:00.425179Z",
     "start_time": "2021-04-02T11:39:00.373270Z"
    }
   },
   "outputs": [],
   "source": [
    "SMALLER_NETWORK_RESULTS_PATH = BASE_PATH.parent.parent / 'smaller_network_results_scaled_down'  # Table 2 _scaled_down\n",
    "print(SMALLER_NETWORK_RESULTS_PATH.absolute())\n",
    "all_data_smaller_df = get_data(SMALLER_NETWORK_RESULTS_PATH, dataset=\"sstSubset\", table=2)\n",
    "all_data_smaller_df;"
   ]
  },
  {
   "cell_type": "code",
   "execution_count": null,
   "metadata": {
    "ExecuteTime": {
     "end_time": "2021-04-02T11:39:01.234530Z",
     "start_time": "2021-04-02T11:39:01.147864Z"
    }
   },
   "outputs": [],
   "source": [
    "L1L2_RESULTS_PATH = BASE_PATH.parent.parent / \"l1l2_scaled_down\"  # Table 3 _scaled_down\n",
    "print(L1L2_RESULTS_PATH.absolute())\n",
    "all_data_l1l2_df = get_data(L1L2_RESULTS_PATH, dataset=\"sstSubset\", l1l2=True)\n",
    "all_data_l1l2_df;"
   ]
  },
  {
   "cell_type": "code",
   "execution_count": null,
   "metadata": {
    "ExecuteTime": {
     "end_time": "2021-04-02T11:39:02.018549Z",
     "start_time": "2021-04-02T11:39:01.907639Z"
    }
   },
   "outputs": [],
   "source": [
    "NO_CONSTRAINT_RESULTS_PATH = BASE_PATH.parent.parent / \"no_constraint_results_scaled_down\"  # Table 4 _scaled_down\n",
    "print(NO_CONSTRAINT_RESULTS_PATH.absolute())\n",
    "all_data_constraint_comp_df = get_data(NO_CONSTRAINT_RESULTS_PATH, dataset=\"sstSubset\", constraint_comp=True)\n",
    "all_data_constraint_comp_df;"
   ]
  },
  {
   "cell_type": "code",
   "execution_count": null,
   "metadata": {
    "ExecuteTime": {
     "end_time": "2021-04-02T11:39:02.771980Z",
     "start_time": "2021-04-02T11:39:02.680349Z"
    }
   },
   "outputs": [],
   "source": [
    "OTHER_DOT_PRODUCT_RESULTS_PATH = BASE_PATH.parent.parent / \"other_dot_product_results_scaled_down\"  # Table 5 _scaled_down\n",
    "print(OTHER_DOT_PRODUCT_RESULTS_PATH.absolute())\n",
    "all_data_other_dot_product_df = get_data(OTHER_DOT_PRODUCT_RESULTS_PATH, dataset=\"sstSubset\", compare_dot_product=True)\n",
    "all_data_other_dot_product_df;"
   ]
  },
  {
   "cell_type": "code",
   "execution_count": null,
   "metadata": {
    "ExecuteTime": {
     "end_time": "2021-04-02T11:39:52.818907Z",
     "start_time": "2021-04-02T11:39:52.677709Z"
    }
   },
   "outputs": [],
   "source": [
    "def process_data(data_df):\n",
    "    try:\n",
    "        data_avg = data_df.groupby(['p', 'num_layers', 'Method'], as_index=False).mean()\n",
    "        data_min = data_df.groupby(['p', 'num_layers', 'Method'], as_index=False).min()\n",
    "        \n",
    "        data_avg = data_avg.drop(columns=[\"sentence\", \"position\"])#.reset_index()\n",
    "        data_min = data_min.drop(columns=[\"sentence\", \"position\"])#.reset_index()\n",
    "        \n",
    "        data_avg = data_avg.sort_values(['num_layers', 'p']).astype({'p':\"category\", \"Method\": \"category\", \"num_layers\": \"category\"}).reset_index()\n",
    "        data_min = data_min.sort_values(['num_layers', 'p']).astype({'p':\"category\", \"Method\": \"category\", \"num_layers\": \"category\"}).reset_index()\n",
    "\n",
    "        data = data_avg.rename(columns={\"eps\": \"avg_eps\"})\n",
    "        \n",
    "        data[\"min_eps\"] = data_min[\"eps\"]\n",
    "        data = data[[\"num_layers\", \"p\", \"Method\", \"min_eps\", \"avg_eps\", \"timing\", \"memory\"]]\n",
    "        \n",
    "        return data\n",
    "    except Exception as e:\n",
    "        print(f\"Couldn't process dataframe. Exception {e}\")\n",
    "        return None, None\n",
    "\n",
    "data_normal = process_data(all_data_df)\n",
    "data_smaller =  process_data(all_data_smaller_df)\n",
    "data_l1l2 = process_data(all_data_l1l2_df)\n",
    "data_constraint = process_data(all_data_constraint_comp_df)\n",
    "data_dot_product = process_data(all_data_other_dot_product_df)"
   ]
  },
  {
   "cell_type": "code",
   "execution_count": null,
   "metadata": {
    "ExecuteTime": {
     "end_time": "2021-04-02T11:39:53.631004Z",
     "start_time": "2021-04-02T11:39:53.612642Z"
    }
   },
   "outputs": [],
   "source": [
    "data_normal  # Table 1"
   ]
  },
  {
   "cell_type": "code",
   "execution_count": null,
   "metadata": {
    "ExecuteTime": {
     "end_time": "2021-04-02T11:39:05.128430Z",
     "start_time": "2021-04-02T11:39:05.114046Z"
    }
   },
   "outputs": [],
   "source": [
    "data_smaller  # Table 2"
   ]
  },
  {
   "cell_type": "code",
   "execution_count": null,
   "metadata": {
    "ExecuteTime": {
     "end_time": "2021-04-02T11:39:05.798745Z",
     "start_time": "2021-04-02T11:39:05.776099Z"
    }
   },
   "outputs": [],
   "source": [
    "data_l1l2  # Table 3"
   ]
  },
  {
   "cell_type": "code",
   "execution_count": null,
   "metadata": {
    "ExecuteTime": {
     "end_time": "2021-04-02T11:39:06.534000Z",
     "start_time": "2021-04-02T11:39:06.515262Z"
    }
   },
   "outputs": [],
   "source": [
    "data_constraint  # Table 4"
   ]
  },
  {
   "cell_type": "code",
   "execution_count": null,
   "metadata": {
    "ExecuteTime": {
     "end_time": "2021-04-02T11:39:07.217319Z",
     "start_time": "2021-04-02T11:39:07.200875Z"
    }
   },
   "outputs": [],
   "source": [
    "data_dot_product    # Table 5"
   ]
  }
 ],
 "metadata": {
  "kernelspec": {
   "display_name": "Python 3",
   "language": "python",
   "name": "python3"
  },
  "language_info": {
   "codemirror_mode": {
    "name": "ipython",
    "version": 3
   },
   "file_extension": ".py",
   "mimetype": "text/x-python",
   "name": "python",
   "nbconvert_exporter": "python",
   "pygments_lexer": "ipython3",
   "version": "3.8.6"
  },
  "toc": {
   "base_numbering": 1,
   "nav_menu": {},
   "number_sections": true,
   "sideBar": true,
   "skip_h1_title": false,
   "title_cell": "Table of Contents",
   "title_sidebar": "Contents",
   "toc_cell": false,
   "toc_position": {},
   "toc_section_display": true,
   "toc_window_display": false
  },
  "varInspector": {
   "cols": {
    "lenName": 16,
    "lenType": 16,
    "lenVar": 40
   },
   "kernels_config": {
    "python": {
     "delete_cmd_postfix": "",
     "delete_cmd_prefix": "del ",
     "library": "var_list.py",
     "varRefreshCmd": "print(var_dic_list())"
    },
    "r": {
     "delete_cmd_postfix": ") ",
     "delete_cmd_prefix": "rm(",
     "library": "var_list.r",
     "varRefreshCmd": "cat(var_dic_list()) "
    }
   },
   "types_to_exclude": [
    "module",
    "function",
    "builtin_function_or_method",
    "instance",
    "_Feature"
   ],
   "window_display": false
  }
 },
 "nbformat": 4,
 "nbformat_minor": 4
}
